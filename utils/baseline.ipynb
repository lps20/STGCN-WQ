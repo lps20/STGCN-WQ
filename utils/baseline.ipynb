{
 "cells": [
  {
   "cell_type": "code",
   "execution_count": 1,
   "metadata": {},
   "outputs": [],
   "source": [
    "import numpy as np\n",
    "import pandas as pd"
   ]
  },
  {
   "cell_type": "code",
   "execution_count": 2,
   "metadata": {},
   "outputs": [],
   "source": [
    "X = np.load(\"..\\\\data\\\\matrix_nan.npy\")\n",
    "X = X.astype(np.float32)\n",
    "split_line = int(X.shape[0] * 0.8)\n",
    "test_original_data = X[split_line:,:]\n",
    "# if the value>2.371 then it is 1, else 0\n",
    "Target = test_original_data.copy()\n",
    "Prediction = Target.copy()\n",
    "for i in range(1, Target.shape[0]):\n",
    "    Prediction[i,  :] = Target[i-1, :]\n",
    "Target_list = Target[12:].flatten()\n",
    "Prediction_list = Prediction[12:].flatten()"
   ]
  },
  {
   "cell_type": "code",
   "execution_count": 3,
   "metadata": {},
   "outputs": [],
   "source": [
    "Target_list = Target[12:].flatten()\n",
    "Prediction_list = Prediction[12:].flatten()\n",
    "# get index of nan in Target_list and Prediction_list\n",
    "nan_index = np.where(~(np.isnan(Target_list) | np.isnan(Prediction_list)))\n",
    "Target_save = Target[12:].flatten()\n",
    "Prediction_save = Prediction[12:].flatten()\n",
    "nan_index_save = np.where(~(np.isnan(Target_save) | np.isnan(Prediction_save)))\n",
    "#np.save(\"..\\\\data\\\\nan_index.npy\", nan_index_save[0])\n",
    "Target_save = Target[12:]\n",
    "Prediction_save = Prediction[12:]"
   ]
  },
  {
   "cell_type": "code",
   "execution_count": 4,
   "metadata": {},
   "outputs": [
    {
     "name": "stdout",
     "output_type": "stream",
     "text": [
      "              precision    recall  f1-score   support\n",
      "\n",
      "           0       0.92      0.92      0.92      5544\n",
      "           1       0.27      0.27      0.27       576\n",
      "\n",
      "    accuracy                           0.86      6120\n",
      "   macro avg       0.59      0.60      0.60      6120\n",
      "weighted avg       0.86      0.86      0.86      6120\n",
      "\n"
     ]
    }
   ],
   "source": [
    "Target_list = np.where(Target_list > 2.371, 1, 0)\n",
    "Prediction_list = np.where(Prediction_list > 2.371, 1, 0)\n",
    "from sklearn.metrics import classification_report\n",
    "print(classification_report(Target_list, Prediction_list))"
   ]
  }
 ],
 "metadata": {
  "kernelspec": {
   "display_name": "test",
   "language": "python",
   "name": "python3"
  },
  "language_info": {
   "codemirror_mode": {
    "name": "ipython",
    "version": 3
   },
   "file_extension": ".py",
   "mimetype": "text/x-python",
   "name": "python",
   "nbconvert_exporter": "python",
   "pygments_lexer": "ipython3",
   "version": "3.7.16"
  }
 },
 "nbformat": 4,
 "nbformat_minor": 2
}
