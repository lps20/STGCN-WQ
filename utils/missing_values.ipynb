{
 "cells": [
  {
   "cell_type": "code",
   "execution_count": 1,
   "metadata": {},
   "outputs": [],
   "source": [
    "import pandas as pd\n",
    "import numpy as np\n",
    "import warnings\n",
    "\n",
    "warnings.filterwarnings(\"ignore\")"
   ]
  },
  {
   "cell_type": "code",
   "execution_count": 55,
   "metadata": {},
   "outputs": [],
   "source": [
    "matrix = np.load('..\\data\\LakeErie\\\\analysis\\matrix_noaa_nan.npy')\n",
    "# calculate the correlation matrix\n",
    "from scipy.stats import pearsonr\n",
    "def pearson_test(matrix, i, j, k):\n",
    "    data1 = matrix[:,i,k]\n",
    "    data2 = matrix[:,j,k]\n",
    "    index = np.logical_and(~np.isnan(data1), ~np.isnan(data2))\n",
    "    data1 = data1[index]\n",
    "    data2 = data2[index]\n",
    "    corr, p = pearsonr(data1, data2)\n",
    "    return corr, p\n",
    "corrs = np.zeros((matrix.shape[1], matrix.shape[1], matrix.shape[2]))\n",
    "ps = np.zeros((matrix.shape[1], matrix.shape[1], matrix.shape[2]))\n",
    "for i in range(matrix.shape[1]):\n",
    "    for j in range(matrix.shape[1]):\n",
    "        for k in range(matrix.shape[2]):\n",
    "            corr, p = pearson_test(matrix, i, j, k)\n",
    "            corrs[i,j,k] = corr\n",
    "            ps[i,j,k] = p"
   ]
  },
  {
   "cell_type": "code",
   "execution_count": 56,
   "metadata": {},
   "outputs": [],
   "source": [
    "# Spatio Then Temporal (STT) \n",
    "from scipy.interpolate import interp1d\n",
    "def fill_missing(matrix, corr, threshold=0.5):\n",
    "# fill missing values with Spatio correlation\n",
    "    matrix_filled = matrix.copy()\n",
    "    for i in range(matrix.shape[0]):\n",
    "        for j in range(matrix.shape[1]):\n",
    "            for k in range(matrix.shape[2]):\n",
    "                if np.isnan(matrix[i][j][k]):\n",
    "                    # find the correlations > threshold\n",
    "                    index = np.logical_and(~np.isnan(matrix[i,:,k]), corr[j,:,k]>threshold)\n",
    "                    if np.sum(index)>0:\n",
    "                        # Weighted average + random noise\n",
    "                        mean = np.sum(matrix[i,index,k]*corr[j,index,k])/np.sum(corr[j,index,k])\n",
    "                        std = np.std(matrix[i,index,k])\n",
    "                        n = np.sum(index)\n",
    "                        matrix_filled[i,j,k] = mean + np.random.normal(0,std/n)\n",
    "                    else:\n",
    "                        continue\n",
    "    # fill the rest missing values with temporal KNN interpolation\n",
    "    for j in range(matrix.shape[1]):\n",
    "        for k in range(matrix.shape[2]):\n",
    "            x = np.arange(matrix.shape[0])\n",
    "            y = matrix_filled[:,j,k]\n",
    "            f = interp1d(x[~np.isnan(y)], y[~np.isnan(y)], kind='linear', fill_value='extrapolate')\n",
    "            xnew = x[np.isnan(y)]\n",
    "            ynew = f(xnew)\n",
    "            matrix_filled[np.isnan(y),j,k] = ynew\n",
    "    return matrix_filled"
   ]
  },
  {
   "cell_type": "code",
   "execution_count": 57,
   "metadata": {},
   "outputs": [],
   "source": [
    "# fill missing values with STT algorithm\n",
    "matrix_filled = fill_missing(matrix, corrs, threshold=0.25)"
   ]
  },
  {
   "cell_type": "code",
   "execution_count": 42,
   "metadata": {},
   "outputs": [],
   "source": [
    "#PreDay\n",
    "matrix_filled_preday = matrix.copy()\n",
    "for i in range(0, matrix.shape[0]):\n",
    "    for j in range(0, matrix.shape[1]):\n",
    "        if np.isnan(matrix[i,j,0]):\n",
    "            if i == 0:\n",
    "                matrix_filled_preday[i,j,0] = np.nanmean(matrix[:,j,0] )\n",
    "            else:\n",
    "                matrix_filled_preday[i,j,0] = matrix_filled_preday[i-1,j,0]"
   ]
  },
  {
   "cell_type": "code",
   "execution_count": 48,
   "metadata": {},
   "outputs": [],
   "source": [
    "#Mean\n",
    "matrix_filled_mean = matrix.copy()\n",
    "for i in range(0, matrix.shape[0]):\n",
    "    for j in range(0, matrix.shape[1]):\n",
    "        if np.isnan(matrix[i,j,0]):\n",
    "            matrix_filled_mean[i,j,0] = np.nanmean(matrix[:,j,0] )\n"
   ]
  }
 ],
 "metadata": {
  "kernelspec": {
   "display_name": "treebase",
   "language": "python",
   "name": "python3"
  },
  "language_info": {
   "codemirror_mode": {
    "name": "ipython",
    "version": 3
   },
   "file_extension": ".py",
   "mimetype": "text/x-python",
   "name": "python",
   "nbconvert_exporter": "python",
   "pygments_lexer": "ipython3",
   "version": "3.7.16"
  }
 },
 "nbformat": 4,
 "nbformat_minor": 2
}
